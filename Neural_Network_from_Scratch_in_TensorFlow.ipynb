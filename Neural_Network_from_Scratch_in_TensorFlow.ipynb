{
  "nbformat": 4,
  "nbformat_minor": 0,
  "metadata": {
    "colab": {
      "name": "Neural Network from Scratch in TensorFlow by Coursera Project Network.ipynb",
      "provenance": []
    },
    "kernelspec": {
      "name": "python3",
      "display_name": "Python 3"
    }
  },
  "cells": [
    {
      "cell_type": "markdown",
      "metadata": {
        "id": "2mS6PcB0FvP_",
        "colab_type": "text"
      },
      "source": [
        "# Plotting result data,importing Mnist data,plotting random examples"
      ]
    },
    {
      "cell_type": "code",
      "metadata": {
        "id": "6cu3KKnZGPG3",
        "colab_type": "code",
        "colab": {}
      },
      "source": [
        "import tensorflow as tf\n",
        "import numpy as np\n",
        "import matplotlib.pyplot as plt\n",
        "\n",
        "def load_data():\n",
        "    (x_train, y_train), (x_test, y_test) = tf.keras.datasets.mnist.load_data()\n",
        "    x_train = np.reshape(x_train, (x_train.shape[0], 784))/255.\n",
        "    x_test = np.reshape(x_test, (x_test.shape[0], 784))/255.\n",
        "    y_train = tf.keras.utils.to_categorical(y_train)\n",
        "    y_test = tf.keras.utils.to_categorical(y_test)\n",
        "    return (x_train, y_train), (x_test, y_test)\n",
        "\n",
        "def plot_random_examples(x, y, p=None):\n",
        "    indices = np.random.choice(range(0, x.shape[0]), 10)\n",
        "    y = np.argmax(y, axis=1)\n",
        "    if p is None:\n",
        "        p = y\n",
        "    plt.figure(figsize=(10, 5))\n",
        "    for i, index in enumerate(indices):\n",
        "        plt.subplot(2, 5, i+1)\n",
        "        plt.imshow(x[index].reshape((28, 28)), cmap='binary')\n",
        "        plt.xticks([])\n",
        "        plt.yticks([])\n",
        "        if y[index] == p[index]:\n",
        "            col = 'g'\n",
        "        else:\n",
        "            col = 'r'\n",
        "        plt.xlabel(str(p[index]), color=col)\n",
        "    return plt\n",
        "\n",
        "def plot_results(history):\n",
        "    plt.figure(figsize=(12, 4))\n",
        "    epochs = len(history['val_loss'])\n",
        "    plt.subplot(1, 2, 1)\n",
        "    plt.plot(range(epochs), history['val_loss'], label='Val Loss')\n",
        "    plt.plot(range(epochs), history['train_loss'], label='Train Loss')\n",
        "    plt.xticks(list(range(epochs)))\n",
        "    plt.xlabel('Epochs')\n",
        "    plt.ylabel('Loss')\n",
        "    plt.legend()\n",
        "    plt.subplot(1, 2, 2)\n",
        "    plt.plot(range(epochs), history['val_acc'], label='Val Acc')\n",
        "    plt.xticks(list(range(epochs)))\n",
        "    plt.xlabel('Epochs')\n",
        "    plt.ylabel('Accuracy')\n",
        "    plt.legend()\n",
        "    return plt\n"
      ],
      "execution_count": null,
      "outputs": []
    },
    {
      "cell_type": "markdown",
      "metadata": {
        "id": "nK6y8v9on_cY",
        "colab_type": "text"
      },
      "source": [
        "# Neural Network from Scratch in TensorFlow"
      ]
    },
    {
      "cell_type": "markdown",
      "metadata": {
        "id": "C7pFwArNoMKd",
        "colab_type": "text"
      },
      "source": [
        "## Task 1:Introduction and Importing LIbraries"
      ]
    },
    {
      "cell_type": "code",
      "metadata": {
        "id": "LEdZo_QJoWD1",
        "colab_type": "code",
        "colab": {
          "base_uri": "https://localhost:8080/",
          "height": 34
        },
        "outputId": "5671ca63-53cb-4b04-beec-6d1b8786e084"
      },
      "source": [
        "import tensorflow as tf\n",
        "import numpy as np\n",
        "import matplotlib.pyplot as plt\n",
        "%matplotlib inline\n",
        "\n",
        "print('TensorFlow Version',tf.__version__)"
      ],
      "execution_count": null,
      "outputs": [
        {
          "output_type": "stream",
          "text": [
            "TensorFlow Version 2.2.0\n"
          ],
          "name": "stdout"
        }
      ]
    },
    {
      "cell_type": "markdown",
      "metadata": {
        "id": "T3X5TfVxo94-",
        "colab_type": "text"
      },
      "source": [
        "## Task 2:Initializing Neural Network"
      ]
    },
    {
      "cell_type": "code",
      "metadata": {
        "id": "A3859GUfoa7z",
        "colab_type": "code",
        "colab": {}
      },
      "source": [
        "#creating a neural network class\n",
        "#This clas will take list with values like:\n",
        "#net=NeuralNetwork([10.100,10])10-features,10 classses,100 units in hidden layer\n",
        "\n",
        "class NeuralNetwork:\n",
        "    def __init__(self,layers):\n",
        "        self.layers = layers\n",
        "        self.L =len(layers) #no. of layers\n",
        "        self.num_features = layers[0]\n",
        "        self.num_classes = layers[-1]\n",
        "        \n",
        "        self.W = {}#weights for different layers\n",
        "        self.b = {}#bias for different layers\n",
        "        \n",
        "        self.dW = {}#gradient for weights for different layers\n",
        "        self.db = {}#gradient for bias for different layers\n",
        "        \n",
        "        #After initialization call the setup function\n",
        "        self.setup()\n",
        "    \n",
        "    def setup(self):\n",
        "        #Here we setup the model i.e.,we initialize value for parameter and W and b for various layers\n",
        "        for i in range(1,self.L):#starting with index 1 as 0th index or 1st layer is the input layer\n",
        "            self.W[i]=tf.Variable(tf.random.normal(shape=(self.layers[i],self.layers[i-1])))#we can also use random.unifrom\n",
        "            self.b[i]=tf.Variable(tf.random.normal(shape=(self.layers[i],1)))\n",
        "            '''You have Neural Network with 1 hidden layer. This hidden layer has 10 nodes. The output layer has 3 nodes. The layers are densely connected. What would be the shape of parameter b (bias) for the output layer?\n",
        "                (3, 1)\n",
        "            '''"
      ],
      "execution_count": null,
      "outputs": []
    },
    {
      "cell_type": "markdown",
      "metadata": {
        "id": "KKl_kF_upQUp",
        "colab_type": "text"
      },
      "source": [
        "## Task 3:Forward Pass"
      ]
    },
    {
      "cell_type": "code",
      "metadata": {
        "id": "Hm02xbkIHs3J",
        "colab_type": "code",
        "colab": {}
      },
      "source": [
        "class NeuralNetwork(NeuralNetwork):#extending the above NeuralNetwork class\n",
        "    def forward_pass(self, A):\n",
        "        A = tf.convert_to_tensor(A, dtype=tf.float32)\n",
        "        for i in range(1, self.L):\n",
        "            Z = tf.matmul(A, tf.transpose(self.W[i])) + tf.transpose(self.b[i])#finding linear sum W^tX+b for first hidden layers onwards.\n",
        "            if i != self.L-1:\n",
        "                A = tf.nn.relu(Z)\n",
        "            else:\n",
        "                A = Z\n",
        "        return A"
      ],
      "execution_count": null,
      "outputs": []
    },
    {
      "cell_type": "markdown",
      "metadata": {
        "id": "nhIj3LhosZSx",
        "colab_type": "text"
      },
      "source": [
        "## Task 4:Computing Loss and Updating Parameters"
      ]
    },
    {
      "cell_type": "code",
      "metadata": {
        "id": "H8sOLhNNsSHw",
        "colab_type": "code",
        "colab": {}
      },
      "source": [
        "class NeuralNetwork(NeuralNetwork):\n",
        "  def compute_loss(self,A,Y):\n",
        "    #computes loss for each layers\n",
        "    loss = tf.nn.softmax_cross_entropy_with_logits(Y,A)\n",
        "    return tf.reduce_mean(loss)\n",
        "  '''In order to calculate the loss with the tf.nn.softmax_cross_entropy_with_logits function, we must pass the true labels and the softmax activation output from the output layer. \n",
        "      False\n",
        "  '''\n",
        "  def update_params(self,lr):\n",
        "    #lr=learning rate\n",
        "    for i in range(1,self.L):\n",
        "      self.W[i].assign_sub(lr * self.dW[i])#w=w-lr*dW\n",
        "      self.b[i].assign_sub(lr * self.db[i])#b=b-lr*db"
      ],
      "execution_count": null,
      "outputs": []
    },
    {
      "cell_type": "markdown",
      "metadata": {
        "id": "UAml35fjtJfd",
        "colab_type": "text"
      },
      "source": [
        "## Task 5:Predict and Info functions"
      ]
    },
    {
      "cell_type": "code",
      "metadata": {
        "id": "7Mq4yVFxtIOe",
        "colab_type": "code",
        "colab": {}
      },
      "source": [
        "class NeuralNetwork(NeuralNetwork):\n",
        "    def predict(self, X):\n",
        "        A = self.forward_pass(X)\n",
        "        return tf.argmax(tf.nn.softmax(A), axis=1)#aixs=1 to tell we are looking for columns\n",
        "    \n",
        "    def info(self):\n",
        "        num_params = 0\n",
        "        for i in range(1, self.L):\n",
        "            num_params += self.W[i].shape[0] * self.W[i].shape[1]\n",
        "            num_params += self.b[i].shape[0]\n",
        "        print('Input Features:', self.num_features)\n",
        "        print('Number of Classes:', self.num_classes)\n",
        "        print('Hidden Layers:')\n",
        "        print('--------------')\n",
        "        for i in range(1, self.L-1):\n",
        "            print('Layer {}, Units {}'.format(i, self.layers[i]))\n",
        "        print('--------------')\n",
        "        print('Number of parameters:', num_params)"
      ],
      "execution_count": null,
      "outputs": []
    },
    {
      "cell_type": "markdown",
      "metadata": {
        "id": "4dEEGNLQu2K4",
        "colab_type": "text"
      },
      "source": [
        "## Task 6:Training on Batch"
      ]
    },
    {
      "cell_type": "code",
      "metadata": {
        "id": "-zcECeMouymP",
        "colab_type": "code",
        "colab": {}
      },
      "source": [
        "class NeuralNetwork(NeuralNetwork):\n",
        "    def train_on_batch(self, X, Y, lr):\n",
        "        X = tf.convert_to_tensor(X, dtype=tf.float32)\n",
        "        Y = tf.convert_to_tensor(Y, dtype=tf.float32)\n",
        "        \n",
        "        with tf.GradientTape(persistent=True) as tape:\n",
        "          #persistent=True as we want to use the tape for all the parameters\n",
        "            A = self.forward_pass(X)\n",
        "            loss = self.compute_loss(A, Y)\n",
        "        for key in self.W.keys():\n",
        "            self.dW[key] = tape.gradient(loss, self.W[key])\n",
        "            self.db[key] = tape.gradient(loss, self.b[key])\n",
        "        del tape\n",
        "        self.update_params(lr)\n",
        "        \n",
        "        return loss.numpy()"
      ],
      "execution_count": null,
      "outputs": []
    },
    {
      "cell_type": "markdown",
      "metadata": {
        "id": "V9FAAnafwF6T",
        "colab_type": "text"
      },
      "source": [
        "## Task 7:Training on Complete Test"
      ]
    },
    {
      "cell_type": "code",
      "metadata": {
        "id": "sfLsk-2svZkP",
        "colab_type": "code",
        "colab": {}
      },
      "source": [
        "class NeuralNetwork(NeuralNetwork):\n",
        "    def train(self, x_train, y_train, x_test, y_test, epochs, steps_per_epoch, batch_size, lr):\n",
        "        history = {\n",
        "            'val_loss': [],\n",
        "            'train_loss': [],\n",
        "            'val_acc': []\n",
        "        }\n",
        "        \n",
        "        for e in range(0, epochs):\n",
        "            epoch_train_loss = 0.\n",
        "            print('Epoch {}'.format(e), end='.')\n",
        "            for i in range(0, steps_per_epoch):\n",
        "                x_batch = x_train[i*batch_size:(i+1)*batch_size]\n",
        "                y_batch = y_train[i*batch_size:(i+1)*batch_size]\n",
        "                batch_loss = self.train_on_batch(x_batch, y_batch, lr)\n",
        "                epoch_train_loss += batch_loss\n",
        "                \n",
        "                if i%int(steps_per_epoch/10) == 0:\n",
        "                    print(end='.')\n",
        "                    \n",
        "            history['train_loss'].append(epoch_train_loss/steps_per_epoch)\n",
        "            \n",
        "            val_A = self.forward_pass(x_test)\n",
        "            history['val_loss'].append(self.compute_loss(val_A, y_test).numpy())\n",
        "            \n",
        "            val_preds = self.predict(x_test)\n",
        "            history['val_acc'].append(np.mean(np.argmax(y_test, axis=1) == val_preds.numpy()))\n",
        "            print('Val Acc:', history['val_acc'][-1])\n",
        "        return history"
      ],
      "execution_count": null,
      "outputs": []
    },
    {
      "cell_type": "markdown",
      "metadata": {
        "id": "dmYMOFlG5AXn",
        "colab_type": "text"
      },
      "source": [
        "## Task 8:Application"
      ]
    },
    {
      "cell_type": "code",
      "metadata": {
        "id": "uBFJDoRV5Fzs",
        "colab_type": "code",
        "colab": {
          "base_uri": "https://localhost:8080/",
          "height": 289
        },
        "outputId": "4d77a653-6c7c-4d68-b37c-bd895e99239b"
      },
      "source": [
        "(x_train, y_train), (x_test, y_test) = load_data()\n",
        "plot_random_examples(x_train, y_train).show()"
      ],
      "execution_count": null,
      "outputs": [
        {
          "output_type": "display_data",
          "data": {
            "image/png": "[encoded data removed]",
            "text/plain": [
              "<Figure size 720x360 with 10 Axes>"
            ]
          },
          "metadata": {
            "tags": []
          }
        }
      ]
    },
    {
      "cell_type": "code",
      "metadata": {
        "id": "D0rE3spO5wAf",
        "colab_type": "code",
        "colab": {
          "base_uri": "https://localhost:8080/",
          "height": 153
        },
        "outputId": "19d2eead-e571-4c64-b3f4-adf0cf177247"
      },
      "source": [
        "net = NeuralNetwork([784, 128, 128, 10])\n",
        "net.info()"
      ],
      "execution_count": null,
      "outputs": [
        {
          "output_type": "stream",
          "text": [
            "Input Features: 784\n",
            "Number of Classes: 10\n",
            "Hidden Layers:\n",
            "--------------\n",
            "Layer 1, Units 128\n",
            "Layer 2, Units 128\n",
            "--------------\n",
            "Number of parameters: 118282\n"
          ],
          "name": "stdout"
        }
      ]
    },
    {
      "cell_type": "code",
      "metadata": {
        "id": "GyrqPBfV7RwQ",
        "colab_type": "code",
        "colab": {
          "base_uri": "https://localhost:8080/",
          "height": 34
        },
        "outputId": "40e683fc-1b46-4582-cbf1-0d1d58f00a32"
      },
      "source": [
        "batch_size = 120\n",
        "epochs = 5\n",
        "steps_per_epoch = int(x_train.shape[0]/batch_size)\n",
        "lr = 3e-3\n",
        "\n",
        "print('Steps per epoch:', steps_per_epoch)"
      ],
      "execution_count": null,
      "outputs": [
        {
          "output_type": "stream",
          "text": [
            "Steps per epoch: 500\n"
          ],
          "name": "stdout"
        }
      ]
    },
    {
      "cell_type": "code",
      "metadata": {
        "id": "Y7zEovDv7tlV",
        "colab_type": "code",
        "colab": {
          "base_uri": "https://localhost:8080/",
          "height": 102
        },
        "outputId": "f5ce0ecb-7e1b-4992-ba52-d29b22bb7ccf"
      },
      "source": [
        "history = net.train(\n",
        "    x_train, y_train,\n",
        "    x_test, y_test,\n",
        "    epochs, steps_per_epoch,\n",
        "    batch_size, lr\n",
        ")"
      ],
      "execution_count": null,
      "outputs": [
        {
          "output_type": "stream",
          "text": [
            "Epoch 0...........Val Acc: 0.8017\n",
            "Epoch 1...........Val Acc: 0.831\n",
            "Epoch 2...........Val Acc: 0.8463\n",
            "Epoch 3...........Val Acc: 0.8552\n",
            "Epoch 4...........Val Acc: 0.8625\n"
          ],
          "name": "stdout"
        }
      ]
    },
    {
      "cell_type": "markdown",
      "metadata": {
        "id": "Op7R_qXv8PLD",
        "colab_type": "text"
      },
      "source": [
        "## Task 9:Results"
      ]
    },
    {
      "cell_type": "code",
      "metadata": {
        "id": "XKFm4fcK8Nw7",
        "colab_type": "code",
        "colab": {
          "base_uri": "https://localhost:8080/",
          "height": 279
        },
        "outputId": "7ae864a7-11d3-48b1-a6cf-09cec384c5a7"
      },
      "source": [
        "plot_results(history).show()"
      ],
      "execution_count": null,
      "outputs": [
        {
          "output_type": "display_data",
          "data": {
            "image/png": "[encoded data removed]",
            "text/plain": [
              "<Figure size 864x288 with 2 Axes>"
            ]
          },
          "metadata": {
            "tags": [],
            "needs_background": "light"
          }
        }
      ]
    },
    {
      "cell_type": "code",
      "metadata": {
        "id": "781udInU8AaJ",
        "colab_type": "code",
        "colab": {}
      },
      "source": [
        "preds = net.predict(x_test)"
      ],
      "execution_count": null,
      "outputs": []
    },
    {
      "cell_type": "code",
      "metadata": {
        "id": "5n0Kf6IW8hu9",
        "colab_type": "code",
        "colab": {
          "base_uri": "https://localhost:8080/",
          "height": 289
        },
        "outputId": "257f51d2-0380-467e-b73a-24779a79e730"
      },
      "source": [
        "plot_random_examples(x_test, y_test, preds.numpy()).show()"
      ],
      "execution_count": null,
      "outputs": [
        {
          "output_type": "display_data",
          "data": {
            "image/png": "[encoded data removed]",
            "text/plain": [
              "<Figure size 720x360 with 10 Axes>"
            ]
          },
          "metadata": {
            "tags": []
          }
        }
      ]
    }
  ]
}